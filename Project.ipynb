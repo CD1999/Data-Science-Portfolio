{
 "cells": [
  {
   "cell_type": "markdown",
   "metadata": {},
   "source": [
    "# Python Project"
   ]
  },
  {
   "cell_type": "markdown",
   "metadata": {},
   "source": [
    "This analysis is done on a dataset collected by a health insurance company in a survey of 3,81,109 policyholders of the company. The company wishes to enter the vehicle insurance market. For a start, the company wants to analyse the factors that guide  customer's decision to buy the vehicle insurance policy proposed by the company. The dataset has information about the gender, age, and region code of the survey participants, as well as information about whether they have previously taken any insurance policy, age of their vehicle, whether vehicle has damage, the annual premium they pay, vintage and finally, their response to the proposed insurance policy of the company. "
   ]
  },
  {
   "cell_type": "code",
   "execution_count": 1,
   "metadata": {},
   "outputs": [],
   "source": [
    "import pandas as pd\n",
    "import numpy as np\n",
    "import matplotlib.pyplot as plt"
   ]
  },
  {
   "cell_type": "code",
   "execution_count": 2,
   "metadata": {},
   "outputs": [
    {
     "data": {
      "text/plain": [
       "'C:\\\\Users\\\\hp'"
      ]
     },
     "execution_count": 2,
     "metadata": {},
     "output_type": "execute_result"
    }
   ],
   "source": [
    "import os\n",
    "os.getcwd()"
   ]
  },
  {
   "cell_type": "code",
   "execution_count": 3,
   "metadata": {},
   "outputs": [
    {
     "data": {
      "text/html": [
       "<div>\n",
       "<style scoped>\n",
       "    .dataframe tbody tr th:only-of-type {\n",
       "        vertical-align: middle;\n",
       "    }\n",
       "\n",
       "    .dataframe tbody tr th {\n",
       "        vertical-align: top;\n",
       "    }\n",
       "\n",
       "    .dataframe thead th {\n",
       "        text-align: right;\n",
       "    }\n",
       "</style>\n",
       "<table border=\"1\" class=\"dataframe\">\n",
       "  <thead>\n",
       "    <tr style=\"text-align: right;\">\n",
       "      <th></th>\n",
       "      <th>id</th>\n",
       "      <th>Gender</th>\n",
       "      <th>Age</th>\n",
       "      <th>Driving_License</th>\n",
       "      <th>Region_Code</th>\n",
       "      <th>Previously_Insured</th>\n",
       "      <th>Vehicle_Age</th>\n",
       "      <th>Vehicle_Damage</th>\n",
       "      <th>Annual_Premium</th>\n",
       "      <th>Policy_Sales_Channel</th>\n",
       "      <th>Vintage</th>\n",
       "      <th>Response</th>\n",
       "    </tr>\n",
       "  </thead>\n",
       "  <tbody>\n",
       "    <tr>\n",
       "      <th>0</th>\n",
       "      <td>1</td>\n",
       "      <td>Male</td>\n",
       "      <td>44</td>\n",
       "      <td>1</td>\n",
       "      <td>28</td>\n",
       "      <td>0</td>\n",
       "      <td>&gt; 2 Years</td>\n",
       "      <td>Yes</td>\n",
       "      <td>40454</td>\n",
       "      <td>26</td>\n",
       "      <td>217</td>\n",
       "      <td>1</td>\n",
       "    </tr>\n",
       "    <tr>\n",
       "      <th>1</th>\n",
       "      <td>2</td>\n",
       "      <td>Male</td>\n",
       "      <td>76</td>\n",
       "      <td>1</td>\n",
       "      <td>3</td>\n",
       "      <td>0</td>\n",
       "      <td>1-2 Year</td>\n",
       "      <td>No</td>\n",
       "      <td>33536</td>\n",
       "      <td>26</td>\n",
       "      <td>183</td>\n",
       "      <td>0</td>\n",
       "    </tr>\n",
       "    <tr>\n",
       "      <th>2</th>\n",
       "      <td>3</td>\n",
       "      <td>Male</td>\n",
       "      <td>47</td>\n",
       "      <td>1</td>\n",
       "      <td>28</td>\n",
       "      <td>0</td>\n",
       "      <td>&gt; 2 Years</td>\n",
       "      <td>Yes</td>\n",
       "      <td>38294</td>\n",
       "      <td>26</td>\n",
       "      <td>27</td>\n",
       "      <td>1</td>\n",
       "    </tr>\n",
       "    <tr>\n",
       "      <th>3</th>\n",
       "      <td>4</td>\n",
       "      <td>Male</td>\n",
       "      <td>21</td>\n",
       "      <td>1</td>\n",
       "      <td>11</td>\n",
       "      <td>1</td>\n",
       "      <td>&lt; 1 Year</td>\n",
       "      <td>No</td>\n",
       "      <td>28619</td>\n",
       "      <td>152</td>\n",
       "      <td>203</td>\n",
       "      <td>0</td>\n",
       "    </tr>\n",
       "    <tr>\n",
       "      <th>4</th>\n",
       "      <td>5</td>\n",
       "      <td>Female</td>\n",
       "      <td>29</td>\n",
       "      <td>1</td>\n",
       "      <td>41</td>\n",
       "      <td>1</td>\n",
       "      <td>&lt; 1 Year</td>\n",
       "      <td>No</td>\n",
       "      <td>27496</td>\n",
       "      <td>152</td>\n",
       "      <td>39</td>\n",
       "      <td>0</td>\n",
       "    </tr>\n",
       "    <tr>\n",
       "      <th>...</th>\n",
       "      <td>...</td>\n",
       "      <td>...</td>\n",
       "      <td>...</td>\n",
       "      <td>...</td>\n",
       "      <td>...</td>\n",
       "      <td>...</td>\n",
       "      <td>...</td>\n",
       "      <td>...</td>\n",
       "      <td>...</td>\n",
       "      <td>...</td>\n",
       "      <td>...</td>\n",
       "      <td>...</td>\n",
       "    </tr>\n",
       "    <tr>\n",
       "      <th>381104</th>\n",
       "      <td>381105</td>\n",
       "      <td>Male</td>\n",
       "      <td>74</td>\n",
       "      <td>1</td>\n",
       "      <td>26</td>\n",
       "      <td>1</td>\n",
       "      <td>1-2 Year</td>\n",
       "      <td>No</td>\n",
       "      <td>30170</td>\n",
       "      <td>26</td>\n",
       "      <td>88</td>\n",
       "      <td>0</td>\n",
       "    </tr>\n",
       "    <tr>\n",
       "      <th>381105</th>\n",
       "      <td>381106</td>\n",
       "      <td>Male</td>\n",
       "      <td>30</td>\n",
       "      <td>1</td>\n",
       "      <td>37</td>\n",
       "      <td>1</td>\n",
       "      <td>&lt; 1 Year</td>\n",
       "      <td>No</td>\n",
       "      <td>40016</td>\n",
       "      <td>152</td>\n",
       "      <td>131</td>\n",
       "      <td>0</td>\n",
       "    </tr>\n",
       "    <tr>\n",
       "      <th>381106</th>\n",
       "      <td>381107</td>\n",
       "      <td>Male</td>\n",
       "      <td>21</td>\n",
       "      <td>1</td>\n",
       "      <td>30</td>\n",
       "      <td>1</td>\n",
       "      <td>&lt; 1 Year</td>\n",
       "      <td>No</td>\n",
       "      <td>35118</td>\n",
       "      <td>160</td>\n",
       "      <td>161</td>\n",
       "      <td>0</td>\n",
       "    </tr>\n",
       "    <tr>\n",
       "      <th>381107</th>\n",
       "      <td>381108</td>\n",
       "      <td>Female</td>\n",
       "      <td>68</td>\n",
       "      <td>1</td>\n",
       "      <td>14</td>\n",
       "      <td>0</td>\n",
       "      <td>&gt; 2 Years</td>\n",
       "      <td>Yes</td>\n",
       "      <td>44617</td>\n",
       "      <td>124</td>\n",
       "      <td>74</td>\n",
       "      <td>0</td>\n",
       "    </tr>\n",
       "    <tr>\n",
       "      <th>381108</th>\n",
       "      <td>381109</td>\n",
       "      <td>Male</td>\n",
       "      <td>46</td>\n",
       "      <td>1</td>\n",
       "      <td>29</td>\n",
       "      <td>0</td>\n",
       "      <td>1-2 Year</td>\n",
       "      <td>No</td>\n",
       "      <td>41777</td>\n",
       "      <td>26</td>\n",
       "      <td>237</td>\n",
       "      <td>0</td>\n",
       "    </tr>\n",
       "  </tbody>\n",
       "</table>\n",
       "<p>381109 rows × 12 columns</p>\n",
       "</div>"
      ],
      "text/plain": [
       "            id  Gender  Age  Driving_License  Region_Code  Previously_Insured  \\\n",
       "0            1    Male   44                1           28                   0   \n",
       "1            2    Male   76                1            3                   0   \n",
       "2            3    Male   47                1           28                   0   \n",
       "3            4    Male   21                1           11                   1   \n",
       "4            5  Female   29                1           41                   1   \n",
       "...        ...     ...  ...              ...          ...                 ...   \n",
       "381104  381105    Male   74                1           26                   1   \n",
       "381105  381106    Male   30                1           37                   1   \n",
       "381106  381107    Male   21                1           30                   1   \n",
       "381107  381108  Female   68                1           14                   0   \n",
       "381108  381109    Male   46                1           29                   0   \n",
       "\n",
       "       Vehicle_Age Vehicle_Damage  Annual_Premium  Policy_Sales_Channel  \\\n",
       "0        > 2 Years            Yes           40454                    26   \n",
       "1         1-2 Year             No           33536                    26   \n",
       "2        > 2 Years            Yes           38294                    26   \n",
       "3         < 1 Year             No           28619                   152   \n",
       "4         < 1 Year             No           27496                   152   \n",
       "...            ...            ...             ...                   ...   \n",
       "381104    1-2 Year             No           30170                    26   \n",
       "381105    < 1 Year             No           40016                   152   \n",
       "381106    < 1 Year             No           35118                   160   \n",
       "381107   > 2 Years            Yes           44617                   124   \n",
       "381108    1-2 Year             No           41777                    26   \n",
       "\n",
       "        Vintage  Response  \n",
       "0           217         1  \n",
       "1           183         0  \n",
       "2            27         1  \n",
       "3           203         0  \n",
       "4            39         0  \n",
       "...         ...       ...  \n",
       "381104       88         0  \n",
       "381105      131         0  \n",
       "381106      161         0  \n",
       "381107       74         0  \n",
       "381108      237         0  \n",
       "\n",
       "[381109 rows x 12 columns]"
      ]
     },
     "execution_count": 3,
     "metadata": {},
     "output_type": "execute_result"
    }
   ],
   "source": [
    "df=pd.read_csv(r\"C:\\Users\\hp\\OneDrive\\Desktop\\Edubridge\\train.csv\")\n",
    "df"
   ]
  },
  {
   "cell_type": "markdown",
   "metadata": {},
   "source": [
    "# Number of male and female participants in the survey:"
   ]
  },
  {
   "cell_type": "code",
   "execution_count": 4,
   "metadata": {},
   "outputs": [
    {
     "data": {
      "text/plain": [
       "Male      206089\n",
       "Female    175020\n",
       "Name: Gender, dtype: int64"
      ]
     },
     "execution_count": 4,
     "metadata": {},
     "output_type": "execute_result"
    }
   ],
   "source": [
    "t1=df.Gender.value_counts()\n",
    "t1"
   ]
  },
  {
   "cell_type": "markdown",
   "metadata": {},
   "source": [
    "Among the survey participants, 2,06,089 are men and 1,75,020 are women"
   ]
  },
  {
   "cell_type": "markdown",
   "metadata": {},
   "source": [
    "# Q1: What all are the different Vehicle Age categories? Find out how many vehicles are there in each of the categories."
   ]
  },
  {
   "cell_type": "code",
   "execution_count": 5,
   "metadata": {},
   "outputs": [
    {
     "data": {
      "text/plain": [
       "['> 2 Years', '1-2 Year', '< 1 Year']"
      ]
     },
     "execution_count": 5,
     "metadata": {},
     "output_type": "execute_result"
    }
   ],
   "source": [
    "v=df[\"Vehicle_Age\"].unique()\n",
    "l1=list(v)\n",
    "l1"
   ]
  },
  {
   "cell_type": "markdown",
   "metadata": {},
   "source": [
    "So, there are 3 categories under \"Vehicle Age\", as given above"
   ]
  },
  {
   "cell_type": "code",
   "execution_count": 6,
   "metadata": {},
   "outputs": [
    {
     "data": {
      "text/plain": [
       "1-2 Year     200316\n",
       "< 1 Year     164786\n",
       "> 2 Years     16007\n",
       "Name: Vehicle_Age, dtype: int64"
      ]
     },
     "execution_count": 6,
     "metadata": {},
     "output_type": "execute_result"
    }
   ],
   "source": [
    "t=df[\"Vehicle_Age\"].value_counts()\n",
    "t"
   ]
  },
  {
   "cell_type": "markdown",
   "metadata": {},
   "source": [
    "We can see the number of vehicles in each Vehicle Age category as above"
   ]
  },
  {
   "cell_type": "code",
   "execution_count": 7,
   "metadata": {},
   "outputs": [
    {
     "data": {
      "text/plain": [
       "['1-2 Year', '< 1 Year', '> 2 Years']"
      ]
     },
     "execution_count": 7,
     "metadata": {},
     "output_type": "execute_result"
    }
   ],
   "source": [
    "s=[l1[1],l1[2],l1[0]]\n",
    "s"
   ]
  },
  {
   "cell_type": "code",
   "execution_count": 8,
   "metadata": {},
   "outputs": [
    {
     "data": {
      "image/png": "[encoded data removed]",
      "text/plain": [
       "<Figure size 432x288 with 1 Axes>"
      ]
     },
     "metadata": {},
     "output_type": "display_data"
    }
   ],
   "source": [
    "y=list(t)\n",
    "mylabels=list(s)\n",
    "plt.pie(y,labels=mylabels)\n",
    "plt.show()"
   ]
  },
  {
   "cell_type": "markdown",
   "metadata": {},
   "source": [
    "# Q2. Check whether the dataset has null values or not."
   ]
  },
  {
   "cell_type": "code",
   "execution_count": 9,
   "metadata": {},
   "outputs": [
    {
     "data": {
      "text/plain": [
       "id                      0\n",
       "Gender                  0\n",
       "Age                     0\n",
       "Driving_License         0\n",
       "Region_Code             0\n",
       "Previously_Insured      0\n",
       "Vehicle_Age             0\n",
       "Vehicle_Damage          0\n",
       "Annual_Premium          0\n",
       "Policy_Sales_Channel    0\n",
       "Vintage                 0\n",
       "Response                0\n",
       "dtype: int64"
      ]
     },
     "execution_count": 9,
     "metadata": {},
     "output_type": "execute_result"
    }
   ],
   "source": [
    "df.isnull().sum()"
   ]
  },
  {
   "cell_type": "markdown",
   "metadata": {},
   "source": [
    "So, the data does not have any null values and hence, is a clean dataset"
   ]
  },
  {
   "cell_type": "markdown",
   "metadata": {},
   "source": [
    "# Q3: How many male and female customers are interested in taking the insurance?"
   ]
  },
  {
   "cell_type": "code",
   "execution_count": 10,
   "metadata": {},
   "outputs": [
    {
     "data": {
      "text/plain": [
       "Male      28525\n",
       "Female    18185\n",
       "Name: Gender, dtype: int64"
      ]
     },
     "execution_count": 10,
     "metadata": {},
     "output_type": "execute_result"
    }
   ],
   "source": [
    "#Q3\n",
    "t=df[df[\"Response\"]==1].Gender.value_counts()\n",
    "t"
   ]
  },
  {
   "cell_type": "markdown",
   "metadata": {},
   "source": [
    "Therefore, among the 2,00,316 men and 1,75,020 women surveyed, only about 28,525 men and 18,185 women actually are interested in taking the policy."
   ]
  },
  {
   "cell_type": "markdown",
   "metadata": {},
   "source": [
    "# Q4: How many survey participants are previously insured/not insured?"
   ]
  },
  {
   "cell_type": "code",
   "execution_count": 11,
   "metadata": {},
   "outputs": [
    {
     "data": {
      "text/plain": [
       "174628"
      ]
     },
     "execution_count": 11,
     "metadata": {},
     "output_type": "execute_result"
    }
   ],
   "source": [
    "#Q4\n",
    "t1=df[df[\"Previously_Insured\"]==1].id.count()\n",
    "t1"
   ]
  },
  {
   "cell_type": "markdown",
   "metadata": {},
   "source": [
    "Number of customers who were previously insured= 174628"
   ]
  },
  {
   "cell_type": "code",
   "execution_count": 12,
   "metadata": {},
   "outputs": [
    {
     "data": {
      "text/plain": [
       "206481"
      ]
     },
     "execution_count": 12,
     "metadata": {},
     "output_type": "execute_result"
    }
   ],
   "source": [
    "t2=df[df[\"Previously_Insured\"]==0].id.count()\n",
    "t2"
   ]
  },
  {
   "cell_type": "markdown",
   "metadata": {},
   "source": [
    "Number of customers who were not previously insured=206481"
   ]
  },
  {
   "cell_type": "markdown",
   "metadata": {},
   "source": [
    "# Q5. How many male and female customers are interested in taking the policy if the vehicle is damaged / not damaged?"
   ]
  },
  {
   "cell_type": "code",
   "execution_count": 13,
   "metadata": {
    "scrolled": true
   },
   "outputs": [
    {
     "data": {
      "text/plain": [
       "Male      27961\n",
       "Female    17767\n",
       "Name: Gender, dtype: int64"
      ]
     },
     "execution_count": 13,
     "metadata": {},
     "output_type": "execute_result"
    }
   ],
   "source": [
    "t1=df[(df[\"Vehicle_Damage\"]==\"Yes\") & (df[\"Response\"]==1)].Gender.value_counts()\n",
    "t1"
   ]
  },
  {
   "cell_type": "code",
   "execution_count": 14,
   "metadata": {},
   "outputs": [
    {
     "data": {
      "text/plain": [
       "Text(0.5, 1.0, 'Number of participants interested in the policy if their vehicle is damaged')"
      ]
     },
     "execution_count": 14,
     "metadata": {},
     "output_type": "execute_result"
    },
    {
     "data": {
      "image/png": "[encoded data removed]",
      "text/plain": [
       "<Figure size 432x288 with 1 Axes>"
      ]
     },
     "metadata": {
      "needs_background": "light"
     },
     "output_type": "display_data"
    }
   ],
   "source": [
    "a1=[\"Male\",\"Female\"]\n",
    "plt.bar(a1,list(t1),color=[\"red\",\"blue\"],width=0.5)\n",
    "plt.xlabel(\"Gender\")\n",
    "plt.title(\"Number of participants interested in the policy if their vehicle is damaged\")"
   ]
  },
  {
   "cell_type": "code",
   "execution_count": 15,
   "metadata": {},
   "outputs": [
    {
     "data": {
      "text/plain": [
       "Male      564\n",
       "Female    418\n",
       "Name: Gender, dtype: int64"
      ]
     },
     "execution_count": 15,
     "metadata": {},
     "output_type": "execute_result"
    }
   ],
   "source": [
    "t2=df[(df[\"Vehicle_Damage\"]==\"No\") & (df[\"Response\"]==1)].Gender.value_counts()\n",
    "t2"
   ]
  },
  {
   "cell_type": "code",
   "execution_count": 16,
   "metadata": {},
   "outputs": [
    {
     "data": {
      "text/plain": [
       "Text(0.5, 1.0, 'Number of participants interested in the policy if their vehicle is not damaged')"
      ]
     },
     "execution_count": 16,
     "metadata": {},
     "output_type": "execute_result"
    },
    {
     "data": {
      "image/png": "[encoded data removed]",
      "text/plain": [
       "<Figure size 432x288 with 1 Axes>"
      ]
     },
     "metadata": {
      "needs_background": "light"
     },
     "output_type": "display_data"
    }
   ],
   "source": [
    "plt.bar(a1,list(t2),color=[\"green\",\"brown\"],width=0.5)\n",
    "plt.xlabel(\"Gender\")\n",
    "plt.title(\"Number of participants interested in the policy if their vehicle is not damaged\")"
   ]
  },
  {
   "cell_type": "markdown",
   "metadata": {},
   "source": [
    "It is clear that those whose vehicles have been damaged are more likely to take the insurance than those whose vehicles have not been damaged. Among those whose vehicles have been damaged, 27,961 men and 17,767 women are interested in taking the policy, whereas among those whose vehicles have not been damaged, only 564 men and 418 women are interested, a sharp decline."
   ]
  },
  {
   "cell_type": "markdown",
   "metadata": {},
   "source": [
    "# Q6: Which group (based on age) of participants are highly interested in taking the insurance?"
   ]
  },
  {
   "cell_type": "code",
   "execution_count": 17,
   "metadata": {},
   "outputs": [
    {
     "data": {
      "text/plain": [
       "20"
      ]
     },
     "execution_count": 17,
     "metadata": {},
     "output_type": "execute_result"
    }
   ],
   "source": [
    "min(df[\"Age\"])"
   ]
  },
  {
   "cell_type": "code",
   "execution_count": 18,
   "metadata": {},
   "outputs": [
    {
     "data": {
      "text/plain": [
       "85"
      ]
     },
     "execution_count": 18,
     "metadata": {},
     "output_type": "execute_result"
    }
   ],
   "source": [
    "max(df[\"Age\"])"
   ]
  },
  {
   "cell_type": "code",
   "execution_count": 61,
   "metadata": {},
   "outputs": [
    {
     "name": "stdout",
     "output_type": "stream",
     "text": [
      "No of participants highly interested in taking the insurance policy in the age group 20 - 30 is:  155203\n",
      "No of participants highly interested in taking the insurance policy in the age group 30 - 40 is:  54253\n",
      "No of participants highly interested in taking the insurance policy in the age group 40 - 50 is:  76846\n",
      "No of participants highly interested in taking the insurance policy in the age group 50 - 60 is:  48034\n",
      "No of participants highly interested in taking the insurance policy in the age group 60 - 70 is:  29023\n",
      "No of participants highly interested in taking the insurance policy in the age group 70 - 80 is:  16712\n",
      "No of participants highly interested in taking the insurance policy in the age group 80 - 90 is:  1038\n"
     ]
    }
   ],
   "source": [
    "for i in range(20,81,10):\n",
    "    j=df[(df[\"Age\"]>=i) & (df[\"Age\"]<i+10)][\"Response\"].count()\n",
    "    print(\"No of participants highly interested in taking the insurance policy in the age group\",i,\"-\",i+10,\"is: \",j)"
   ]
  },
  {
   "cell_type": "markdown",
   "metadata": {},
   "source": [
    "# Q7: What is the maximum annual premium according to the region code?"
   ]
  },
  {
   "cell_type": "code",
   "execution_count": 62,
   "metadata": {},
   "outputs": [
    {
     "data": {
      "text/plain": [
       "array([ 0,  1,  2,  3,  4,  5,  6,  7,  8,  9, 10, 11, 12, 13, 14, 15, 16,\n",
       "       17, 18, 19, 20, 21, 22, 23, 24, 25, 26, 27, 28, 29, 30, 31, 32, 33,\n",
       "       34, 35, 36, 37, 38, 39, 40, 41, 42, 43, 44, 45, 46, 47, 48, 49, 50,\n",
       "       51, 52], dtype=int64)"
      ]
     },
     "execution_count": 62,
     "metadata": {},
     "output_type": "execute_result"
    }
   ],
   "source": [
    "t=df[\"Region_Code\"].unique()\n",
    "t.sort()\n",
    "t"
   ]
  },
  {
   "cell_type": "code",
   "execution_count": 63,
   "metadata": {},
   "outputs": [
    {
     "name": "stdout",
     "output_type": "stream",
     "text": [
      "The maximum annual premium of Region Code 0 = 87815\n",
      "The maximum annual premium of Region Code 1 = 33770\n",
      "The maximum annual premium of Region Code 2 = 61265\n",
      "The maximum annual premium of Region Code 3 = 171264\n",
      "The maximum annual premium of Region Code 4 = 78679\n",
      "The maximum annual premium of Region Code 5 = 169021\n",
      "The maximum annual premium of Region Code 6 = 107680\n",
      "The maximum annual premium of Region Code 7 = 399010\n",
      "The maximum annual premium of Region Code 8 = 240318\n",
      "The maximum annual premium of Region Code 9 = 122917\n",
      "The maximum annual premium of Region Code 10 = 85555\n",
      "The maximum annual premium of Region Code 11 = 144074\n",
      "The maximum annual premium of Region Code 12 = 83424\n",
      "The maximum annual premium of Region Code 13 = 100227\n",
      "The maximum annual premium of Region Code 14 = 124950\n",
      "The maximum annual premium of Region Code 15 = 147075\n",
      "The maximum annual premium of Region Code 16 = 65150\n",
      "The maximum annual premium of Region Code 17 = 251817\n",
      "The maximum annual premium of Region Code 18 = 220581\n",
      "The maximum annual premium of Region Code 19 = 91004\n",
      "The maximum annual premium of Region Code 20 = 64867\n",
      "The maximum annual premium of Region Code 21 = 144004\n",
      "The maximum annual premium of Region Code 22 = 109279\n",
      "The maximum annual premium of Region Code 23 = 71736\n",
      "The maximum annual premium of Region Code 24 = 143525\n",
      "The maximum annual premium of Region Code 25 = 192034\n",
      "The maximum annual premium of Region Code 26 = 71460\n",
      "The maximum annual premium of Region Code 27 = 108765\n",
      "The maximum annual premium of Region Code 28 = 540165\n",
      "The maximum annual premium of Region Code 29 = 366891\n",
      "The maximum annual premium of Region Code 30 = 87971\n",
      "The maximum annual premium of Region Code 31 = 50440\n",
      "The maximum annual premium of Region Code 32 = 85466\n",
      "The maximum annual premium of Region Code 33 = 97335\n",
      "The maximum annual premium of Region Code 34 = 93925\n",
      "The maximum annual premium of Region Code 35 = 402097\n",
      "The maximum annual premium of Region Code 36 = 162948\n",
      "The maximum annual premium of Region Code 37 = 235683\n",
      "The maximum annual premium of Region Code 38 = 103534\n",
      "The maximum annual premium of Region Code 39 = 110204\n",
      "The maximum annual premium of Region Code 40 = 88369\n",
      "The maximum annual premium of Region Code 41 = 339396\n",
      "The maximum annual premium of Region Code 42 = 64541\n",
      "The maximum annual premium of Region Code 43 = 162733\n",
      "The maximum annual premium of Region Code 44 = 99238\n",
      "The maximum annual premium of Region Code 45 = 109865\n",
      "The maximum annual premium of Region Code 46 = 508073\n",
      "The maximum annual premium of Region Code 47 = 152866\n",
      "The maximum annual premium of Region Code 48 = 52400\n",
      "The maximum annual premium of Region Code 49 = 126576\n",
      "The maximum annual premium of Region Code 50 = 294467\n",
      "The maximum annual premium of Region Code 51 = 132401\n",
      "The maximum annual premium of Region Code 52 = 142313\n"
     ]
    },
    {
     "data": {
      "image/png": "[encoded data removed]",
      "text/plain": [
       "<Figure size 432x288 with 1 Axes>"
      ]
     },
     "metadata": {
      "needs_background": "light"
     },
     "output_type": "display_data"
    }
   ],
   "source": [
    "for a in t:\n",
    "    v=df[df[\"Region_Code\"]==a][\"Annual_Premium\"].max()\n",
    "    print(\"The maximum annual premium of Region Code %d = %d\" %(a,v))\n",
    "    plt.bar(a,v,width=1)\n",
    "    plt.xlabel(\"Region Code\")\n",
    "    plt.ylabel(\"Maximum Annual Insurance\")\n",
    "    plt.title(\"Graphical Representation of Maximum Annual Insurance in every Region Code\")\n",
    "    "
   ]
  },
  {
   "cell_type": "markdown",
   "metadata": {},
   "source": [
    "# Q8: How many males and females have Vintage over 200?"
   ]
  },
  {
   "cell_type": "code",
   "execution_count": 64,
   "metadata": {},
   "outputs": [
    {
     "data": {
      "text/plain": [
       "Male      70097\n",
       "Female    59626\n",
       "Name: Gender, dtype: int64"
      ]
     },
     "execution_count": 64,
     "metadata": {},
     "output_type": "execute_result"
    }
   ],
   "source": [
    "t=df[(df[\"Vintage\"]>200)].Gender.value_counts()\n",
    "t"
   ]
  },
  {
   "cell_type": "markdown",
   "metadata": {},
   "source": [
    "Among those who have vintage over 200, 70,097 are men and 59,626 are women"
   ]
  },
  {
   "cell_type": "markdown",
   "metadata": {},
   "source": [
    "# Q9: Which group doesn't have a driving license"
   ]
  },
  {
   "cell_type": "code",
   "execution_count": 23,
   "metadata": {},
   "outputs": [
    {
     "name": "stdout",
     "output_type": "stream",
     "text": [
      "Number of people in age group 20 - 30 who don't have driving license is:  3\n",
      "Number of people in age group 30 - 40 who don't have driving license is:  5\n",
      "Number of people in age group 40 - 50 who don't have driving license is:  65\n",
      "Number of people in age group 50 - 60 who don't have driving license is:  130\n",
      "Number of people in age group 60 - 70 who don't have driving license is:  275\n",
      "Number of people in age group 70 - 80 who don't have driving license is:  298\n",
      "Number of people in age group 80 - 90 who don't have driving license is:  36\n"
     ]
    }
   ],
   "source": [
    "for i in range(20,81,10):\n",
    "    j=df[(df[\"Age\"]>=i) & (df[\"Age\"]<i+10) & (df[\"Driving_License\"]==0)].id.count()\n",
    "    print(\"Number of people in age group\",i,\"-\",i+10,\"who don't have driving license is: \",j)"
   ]
  },
  {
   "cell_type": "markdown",
   "metadata": {},
   "source": [
    "# Q10: Apply the correlation in target to response (The most dependent column of response)"
   ]
  },
  {
   "cell_type": "code",
   "execution_count": 83,
   "metadata": {},
   "outputs": [
    {
     "data": {
      "text/plain": [
       "id                     -0.001368\n",
       "Age                     0.111147\n",
       "Driving_License         0.010155\n",
       "Region_Code             0.010570\n",
       "Previously_Insured     -0.341170\n",
       "Annual_Premium          0.022575\n",
       "Policy_Sales_Channel   -0.139042\n",
       "Vintage                -0.001050\n",
       "Response                1.000000\n",
       "Name: Response, dtype: float64"
      ]
     },
     "execution_count": 83,
     "metadata": {},
     "output_type": "execute_result"
    }
   ],
   "source": [
    "df.corr()[\"Response\"]"
   ]
  },
  {
   "cell_type": "markdown",
   "metadata": {},
   "source": [
    "As we can see from the correlation data, the possession of driving license does not affect the decision of the customer.\n",
    "\n",
    "However, there is a significant negative correlation between the response and whether the customer has been previously insured (for vehicle). Customers who have been previously taken vehicle insurance are, in general, not interested in taking the proposed vehicle insurance.\n",
    "\n",
    "Correlation data indicates that the higher the Policy Sales Channel, the more the possibility of a negative response from the customer.\n",
    "\n",
    "There is a significant positive correlation between the age of the customers and the respone, i.e, the more the age, the more likely the customer has a positive response"
   ]
  },
  {
   "cell_type": "markdown",
   "metadata": {},
   "source": [
    "# Q11: Which is the most frequently used Policy Sales Channel in each region code?"
   ]
  },
  {
   "cell_type": "code",
   "execution_count": 71,
   "metadata": {},
   "outputs": [
    {
     "data": {
      "text/plain": [
       "array([ 0,  1,  2,  3,  4,  5,  6,  7,  8,  9, 10, 11, 12, 13, 14, 15, 16,\n",
       "       17, 18, 19, 20, 21, 22, 23, 24, 25, 26, 27, 28, 29, 30, 31, 32, 33,\n",
       "       34, 35, 36, 37, 38, 39, 40, 41, 42, 43, 44, 45, 46, 47, 48, 49, 50,\n",
       "       51, 52], dtype=int64)"
      ]
     },
     "execution_count": 71,
     "metadata": {},
     "output_type": "execute_result"
    }
   ],
   "source": [
    "t=df[\"Region_Code\"].unique()\n",
    "t.sort()\n",
    "t"
   ]
  },
  {
   "cell_type": "code",
   "execution_count": 79,
   "metadata": {},
   "outputs": [
    {
     "name": "stdout",
     "output_type": "stream",
     "text": [
      "Most frequently used Policy Sales Channel in Region Code 0 is:  26\n",
      "Most frequently used Policy Sales Channel in Region Code 1 is:  124\n",
      "Most frequently used Policy Sales Channel in Region Code 2 is:  152\n",
      "Most frequently used Policy Sales Channel in Region Code 3 is:  152\n",
      "Most frequently used Policy Sales Channel in Region Code 4 is:  152\n",
      "Most frequently used Policy Sales Channel in Region Code 5 is:  152\n",
      "Most frequently used Policy Sales Channel in Region Code 6 is:  152\n",
      "Most frequently used Policy Sales Channel in Region Code 7 is:  124\n",
      "Most frequently used Policy Sales Channel in Region Code 8 is:  152\n",
      "Most frequently used Policy Sales Channel in Region Code 9 is:  152\n",
      "Most frequently used Policy Sales Channel in Region Code 10 is:  152\n",
      "Most frequently used Policy Sales Channel in Region Code 11 is:  152\n",
      "Most frequently used Policy Sales Channel in Region Code 12 is:  152\n",
      "Most frequently used Policy Sales Channel in Region Code 13 is:  152\n",
      "Most frequently used Policy Sales Channel in Region Code 14 is:  152\n",
      "Most frequently used Policy Sales Channel in Region Code 15 is:  152\n",
      "Most frequently used Policy Sales Channel in Region Code 16 is:  152\n",
      "Most frequently used Policy Sales Channel in Region Code 17 is:  152\n",
      "Most frequently used Policy Sales Channel in Region Code 18 is:  152\n",
      "Most frequently used Policy Sales Channel in Region Code 19 is:  124\n",
      "Most frequently used Policy Sales Channel in Region Code 20 is:  124\n",
      "Most frequently used Policy Sales Channel in Region Code 21 is:  152\n",
      "Most frequently used Policy Sales Channel in Region Code 22 is:  152\n",
      "Most frequently used Policy Sales Channel in Region Code 23 is:  152\n",
      "Most frequently used Policy Sales Channel in Region Code 24 is:  152\n",
      "Most frequently used Policy Sales Channel in Region Code 25 is:  152\n",
      "Most frequently used Policy Sales Channel in Region Code 26 is:  152\n",
      "Most frequently used Policy Sales Channel in Region Code 27 is:  152\n",
      "Most frequently used Policy Sales Channel in Region Code 28 is:  26\n",
      "Most frequently used Policy Sales Channel in Region Code 29 is:  152\n",
      "Most frequently used Policy Sales Channel in Region Code 30 is:  152\n",
      "Most frequently used Policy Sales Channel in Region Code 31 is:  124\n",
      "Most frequently used Policy Sales Channel in Region Code 32 is:  152\n",
      "Most frequently used Policy Sales Channel in Region Code 33 is:  152\n",
      "Most frequently used Policy Sales Channel in Region Code 34 is:  152\n",
      "Most frequently used Policy Sales Channel in Region Code 35 is:  152\n",
      "Most frequently used Policy Sales Channel in Region Code 36 is:  152\n",
      "Most frequently used Policy Sales Channel in Region Code 37 is:  152\n",
      "Most frequently used Policy Sales Channel in Region Code 38 is:  124\n",
      "Most frequently used Policy Sales Channel in Region Code 39 is:  152\n",
      "Most frequently used Policy Sales Channel in Region Code 40 is:  152\n",
      "Most frequently used Policy Sales Channel in Region Code 41 is:  152\n",
      "Most frequently used Policy Sales Channel in Region Code 42 is:  152\n",
      "Most frequently used Policy Sales Channel in Region Code 43 is:  152\n",
      "Most frequently used Policy Sales Channel in Region Code 44 is:  152\n",
      "Most frequently used Policy Sales Channel in Region Code 45 is:  152\n",
      "Most frequently used Policy Sales Channel in Region Code 46 is:  152\n",
      "Most frequently used Policy Sales Channel in Region Code 47 is:  152\n",
      "Most frequently used Policy Sales Channel in Region Code 48 is:  124\n",
      "Most frequently used Policy Sales Channel in Region Code 49 is:  152\n",
      "Most frequently used Policy Sales Channel in Region Code 50 is:  152\n",
      "Most frequently used Policy Sales Channel in Region Code 51 is:  26\n",
      "Most frequently used Policy Sales Channel in Region Code 52 is:  26\n"
     ]
    }
   ],
   "source": [
    "for a in t:\n",
    "    j=df[df[\"Region_Code\"]==a][\"Policy_Sales_Channel\"]\n",
    "    def most_frequent(List):\n",
    "        return max(set(List),key=List.count)\n",
    "    List=list(j)\n",
    "    print(\"Most frequently used Policy Sales Channel in Region Code\",a,\"is: \",most_frequent(List))"
   ]
  },
  {
   "cell_type": "markdown",
   "metadata": {},
   "source": [
    "The data indicates that in most region codes, the Policy Sales Channel used to contact the customer is 152. However, in a few region codes, 26 and 124 also have been used."
   ]
  },
  {
   "cell_type": "markdown",
   "metadata": {},
   "source": [
    "# Q12: Which age group has more vehicle damage?"
   ]
  },
  {
   "cell_type": "code",
   "execution_count": 28,
   "metadata": {},
   "outputs": [
    {
     "name": "stdout",
     "output_type": "stream",
     "text": [
      "No. of people having vehicle damage in age group 20 - 30 is:  46743\n",
      "No. of people having vehicle damage in age group 30 - 40 is:  31431\n",
      "No. of people having vehicle damage in age group 40 - 50 is:  52856\n",
      "No. of people having vehicle damage in age group 50 - 60 is:  32652\n",
      "No. of people having vehicle damage in age group 60 - 70 is:  18217\n",
      "No. of people having vehicle damage in age group 70 - 80 is:  9934\n",
      "No. of people having vehicle damage in age group 80 - 90 is:  580\n"
     ]
    }
   ],
   "source": [
    "for i in range(20,81,10):\n",
    "    j = df[(df[\"Age\"]>=i) & (df[\"Age\"]<i+10)& (df[\"Vehicle_Damage\"]==\"Yes\")].id.count()\n",
    "    print(\"No. of people having vehicle damage in age group\",i,\"-\",i+10,\"is: \",j)"
   ]
  },
  {
   "cell_type": "markdown",
   "metadata": {},
   "source": [
    "Clearly, the age group of 40-50 has more vehicle damage incidence than other age groups. However, it needs to be observed that the incidence of vehicle damage in the age group 20-30 is also not far behind, with 46,743 cases, thus showing prevalence of damage causing incidents among the youngsters, possibly due to inexperience or rash driving. As age increases post 50, there is consecutive decline in vehicle damage incidence over the age groups. This may be attributed to more careful driving, or lesser frequency of driving (especially for people who are 60+ in age, who might no longer be working)."
   ]
  },
  {
   "cell_type": "markdown",
   "metadata": {},
   "source": [
    "# Q13: Which age group is following the proper rule of insurance genderwise? (proper driving license, previously insured, vehicle not damaged, response is 1)"
   ]
  },
  {
   "cell_type": "code",
   "execution_count": 81,
   "metadata": {},
   "outputs": [
    {
     "name": "stdout",
     "output_type": "stream",
     "text": [
      "The number of men and women following all the proper rules of insurance in age group 20 - 30 is:  Female    13\n",
      "Male      13\n",
      "Name: Gender, dtype: int64\n",
      "The number of men and women following all the proper rules of insurance in age group 30 - 40 is:  Male      13\n",
      "Female     9\n",
      "Name: Gender, dtype: int64\n",
      "The number of men and women following all the proper rules of insurance in age group 40 - 50 is:  Male      14\n",
      "Female     5\n",
      "Name: Gender, dtype: int64\n",
      "The number of men and women following all the proper rules of insurance in age group 50 - 60 is:  Female    1\n",
      "Name: Gender, dtype: int64\n",
      "The number of men and women following all the proper rules of insurance in age group 60 - 70 is:  Female    2\n",
      "Male      2\n",
      "Name: Gender, dtype: int64\n",
      "The number of men and women following all the proper rules of insurance in age group 70 - 80 is:  Series([], Name: Gender, dtype: int64)\n",
      "The number of men and women following all the proper rules of insurance in age group 80 - 90 is:  Series([], Name: Gender, dtype: int64)\n"
     ]
    }
   ],
   "source": [
    "for i in range(20,81,10):\n",
    "    j=df[(df[\"Age\"]>=i) & (df[\"Age\"]<i+10) & (df[\"Driving_License\"]==1) & (df[\"Previously_Insured\"]==1) & \n",
    "   (df[\"Vehicle_Damage\"]==\"No\") & (df[\"Response\"]==1)][\"Gender\"].value_counts()\n",
    "    print(\"The number of men and women following all the proper rules of insurance in age group\",i,\"-\",i+10,\"is: \",j)"
   ]
  },
  {
   "cell_type": "markdown",
   "metadata": {},
   "source": [
    "# Q14: Which region code has a less percentage of people with driving license?"
   ]
  },
  {
   "cell_type": "code",
   "execution_count": 30,
   "metadata": {},
   "outputs": [],
   "source": [
    "t=df[\"Region_Code\"].unique()\n",
    "t.sort()"
   ]
  },
  {
   "cell_type": "code",
   "execution_count": 31,
   "metadata": {},
   "outputs": [
    {
     "data": {
      "text/plain": [
       "array([ 0,  1,  2,  3,  4,  5,  6,  7,  8,  9, 10, 11, 12, 13, 14, 15, 16,\n",
       "       17, 18, 19, 20, 21, 22, 23, 24, 25, 26, 27, 28, 29, 30, 31, 32, 33,\n",
       "       34, 35, 36, 37, 38, 39, 40, 41, 42, 43, 44, 45, 46, 47, 48, 49, 50,\n",
       "       51, 52], dtype=int64)"
      ]
     },
     "execution_count": 31,
     "metadata": {},
     "output_type": "execute_result"
    }
   ],
   "source": [
    "t"
   ]
  },
  {
   "cell_type": "code",
   "execution_count": 32,
   "metadata": {},
   "outputs": [
    {
     "name": "stdout",
     "output_type": "stream",
     "text": [
      "Number of people in region code 0 with driving license is:  2014\n",
      "Percentage of people in region 0 having driving license is:  99.65363681345869 %\n",
      "Number of people in region code 1 with driving license is:  1006\n",
      "Percentage of people in region 1 having driving license is:  99.8015873015873 %\n",
      "Number of people in region code 2 with driving license is:  4034\n",
      "Percentage of people in region 2 having driving license is:  99.90094105993066 %\n",
      "Number of people in region code 3 with driving license is:  9236\n",
      "Percentage of people in region 3 having driving license is:  99.83785536698736 %\n",
      "Number of people in region code 4 with driving license is:  1796\n",
      "Percentage of people in region 4 having driving license is:  99.7223764575236 %\n",
      "Number of people in region code 5 with driving license is:  1278\n",
      "Percentage of people in region 5 having driving license is:  99.92181391712275 %\n",
      "Number of people in region code 6 with driving license is:  6275\n",
      "Percentage of people in region 6 having driving license is:  99.92038216560509 %\n",
      "Number of people in region code 7 with driving license is:  3272\n",
      "Percentage of people in region 7 having driving license is:  99.78652028057334 %\n",
      "Number of people in region code 8 with driving license is:  33802\n",
      "Percentage of people in region 8 having driving license is:  99.77861085692358 %\n",
      "Number of people in region code 9 with driving license is:  3094\n",
      "Percentage of people in region 9 having driving license is:  99.77426636568849 %\n",
      "Number of people in region code 10 with driving license is:  4369\n",
      "Percentage of people in region 10 having driving license is:  99.88568815729309 %\n",
      "Number of people in region code 11 with driving license is:  9223\n",
      "Percentage of people in region 11 having driving license is:  99.9025129982669 %\n",
      "Number of people in region code 12 with driving license is:  3194\n",
      "Percentage of people in region 12 having driving license is:  99.87492182614133 %\n",
      "Number of people in region code 13 with driving license is:  4031\n",
      "Percentage of people in region 13 having driving license is:  99.87611496531218 %\n",
      "Number of people in region code 14 with driving license is:  4669\n",
      "Percentage of people in region 14 having driving license is:  99.80761008978196 %\n",
      "Number of people in region code 15 with driving license is:  13286\n",
      "Percentage of people in region 15 having driving license is:  99.83468590321611 %\n",
      "Number of people in region code 16 with driving license is:  2005\n",
      "Percentage of people in region 16 having driving license is:  99.90034877927255 %\n",
      "Number of people in region code 17 with driving license is:  2613\n",
      "Percentage of people in region 17 having driving license is:  99.84715322888805 %\n",
      "Number of people in region code 18 with driving license is:  5145\n",
      "Percentage of people in region 18 having driving license is:  99.84475063070056 %\n",
      "Number of people in region code 19 with driving license is:  1534\n",
      "Percentage of people in region 19 having driving license is:  99.93485342019544 %\n",
      "Number of people in region code 20 with driving license is:  1931\n",
      "Percentage of people in region 20 having driving license is:  99.79328165374677 %\n",
      "Number of people in region code 21 with driving license is:  4264\n",
      "Percentage of people in region 21 having driving license is:  99.95311767463666 %\n",
      "Number of people in region code 22 with driving license is:  1307\n",
      "Percentage of people in region 22 having driving license is:  99.8472116119175 %\n",
      "Number of people in region code 23 with driving license is:  1959\n",
      "Percentage of people in region 23 having driving license is:  99.94897959183673 %\n",
      "Number of people in region code 24 with driving license is:  2401\n",
      "Percentage of people in region 24 having driving license is:  99.42028985507247 %\n",
      "Number of people in region code 25 with driving license is:  2502\n",
      "Percentage of people in region 25 having driving license is:  99.96004794246903 %\n",
      "Number of people in region code 26 with driving license is:  2583\n",
      "Percentage of people in region 26 having driving license is:  99.84538074990336 %\n",
      "Number of people in region code 27 with driving license is:  2815\n",
      "Percentage of people in region 27 having driving license is:  99.71661353170386 %\n",
      "Number of people in region code 28 with driving license is:  106062\n",
      "Percentage of people in region 28 having driving license is:  99.66827984776582 %\n",
      "Number of people in region code 29 with driving license is:  11041\n",
      "Percentage of people in region 29 having driving license is:  99.78309986443742 %\n",
      "Number of people in region code 30 with driving license is:  12186\n",
      "Percentage of people in region 30 having driving license is:  99.95898613731441 %\n",
      "Number of people in region code 31 with driving license is:  1952\n",
      "Percentage of people in region 31 having driving license is:  99.59183673469387 %\n",
      "Number of people in region code 32 with driving license is:  2785\n",
      "Percentage of people in region 32 having driving license is:  99.92823824901328 %\n",
      "Number of people in region code 33 with driving license is:  7640\n",
      "Percentage of people in region 33 having driving license is:  99.8170891037366 %\n",
      "Number of people in region code 34 with driving license is:  1663\n",
      "Percentage of people in region 34 having driving license is:  99.93990384615384 %\n",
      "Number of people in region code 35 with driving license is:  6931\n",
      "Percentage of people in region 35 having driving license is:  99.8415442235667 %\n",
      "Number of people in region code 36 with driving license is:  8787\n",
      "Percentage of people in region 36 having driving license is:  99.886324883483 %\n",
      "Number of people in region code 37 with driving license is:  5495\n",
      "Percentage of people in region 37 having driving license is:  99.89092892201418 %\n",
      "Number of people in region code 38 with driving license is:  2023\n",
      "Percentage of people in region 38 having driving license is:  99.85192497532083 %\n",
      "Number of people in region code 39 with driving license is:  4631\n",
      "Percentage of people in region 39 having driving license is:  99.72006890611542 %\n",
      "Number of people in region code 40 with driving license is:  1293\n",
      "Percentage of people in region 40 having driving license is:  99.84555984555985 %\n",
      "Number of people in region code 41 with driving license is:  18231\n",
      "Percentage of people in region 41 having driving license is:  99.82478234682144 %\n",
      "Number of people in region code 42 with driving license is:  591\n",
      "Percentage of people in region 42 having driving license is:  100.0 %\n",
      "Number of people in region code 43 with driving license is:  2637\n",
      "Percentage of people in region 43 having driving license is:  99.92421371731716 %\n",
      "Number of people in region code 44 with driving license is:  807\n",
      "Percentage of people in region 44 having driving license is:  99.87623762376238 %\n",
      "Number of people in region code 45 with driving license is:  5600\n",
      "Percentage of people in region 45 having driving license is:  99.9107939339875 %\n",
      "Number of people in region code 46 with driving license is:  19719\n",
      "Percentage of people in region 46 having driving license is:  99.8480935743582 %\n",
      "Number of people in region code 47 with driving license is:  7422\n",
      "Percentage of people in region 47 having driving license is:  99.81172673480366 %\n",
      "Number of people in region code 48 with driving license is:  4655\n",
      "Percentage of people in region 48 having driving license is:  99.44456312753685 %\n",
      "Number of people in region code 49 with driving license is:  1829\n",
      "Percentage of people in region 49 having driving license is:  99.83624454148472 %\n",
      "Number of people in region code 50 with driving license is:  10229\n",
      "Percentage of people in region 50 having driving license is:  99.86332129259006 %\n",
      "Number of people in region code 51 with driving license is:  183\n",
      "Percentage of people in region 51 having driving license is:  100.0 %\n",
      "Number of people in region code 52 with driving license is:  267\n",
      "Percentage of people in region 52 having driving license is:  100.0 %\n"
     ]
    },
    {
     "data": {
      "image/png": "[encoded data removed]",
      "text/plain": [
       "<Figure size 432x288 with 1 Axes>"
      ]
     },
     "metadata": {
      "needs_background": "light"
     },
     "output_type": "display_data"
    }
   ],
   "source": [
    "for i in t:\n",
    "    j=df[(df[\"Region_Code\"]==i) & (df[\"Driving_License\"]==1)][\"id\"].count()\n",
    "    print(\"Number of people in region code\",i,\"with driving license is: \",j)\n",
    "    plt.bar(i,j,width=1)\n",
    "    plt.xlabel(\"Region Code\")\n",
    "    plt.ylabel(\"Number of people with driving license\")\n",
    "    plt.title(\"Graphical Representation of number of people with driving license in every Region Code\")\n",
    "    k=df[df[\"Region_Code\"]==i][\"id\"].count()\n",
    "    print(\"Percentage of people in region\",i,\"having driving license is: \",100*j/k,\"%\")"
   ]
  },
  {
   "cell_type": "markdown",
   "metadata": {},
   "source": [
    "The above data indicates that more than 99% of customers in every region code have a driving license. So we can confidently say that the lack of a driving license will not be a factor in deciding the possibility of the customers buying/not buying the vehicle insurance policy."
   ]
  },
  {
   "cell_type": "markdown",
   "metadata": {},
   "source": [
    "# Extra Q: Calculate the mean, standard deviation, minimum, maximum and the various quartiles of the data on \"Annual Premium\", in the dataset"
   ]
  },
  {
   "cell_type": "code",
   "execution_count": 33,
   "metadata": {
    "scrolled": false
   },
   "outputs": [
    {
     "data": {
      "text/plain": [
       "count    381109.000000\n",
       "mean      30564.389581\n",
       "std       17213.155057\n",
       "min        2630.000000\n",
       "25%       24405.000000\n",
       "50%       31669.000000\n",
       "75%       39400.000000\n",
       "max      540165.000000\n",
       "Name: Annual_Premium, dtype: float64"
      ]
     },
     "execution_count": 33,
     "metadata": {},
     "output_type": "execute_result"
    }
   ],
   "source": [
    "l1=df[\"Annual_Premium\"]\n",
    "l1.describe()"
   ]
  },
  {
   "cell_type": "markdown",
   "metadata": {},
   "source": [
    "We can see that the mean annual premium among those surveyed is Rs 30564.40. Th standard deviation is 17213. The 25th, 50th and 75th quartile are Rs 24405, Rs 31699 and Rs 39400 respectively. The maximum premium surveyed is Rs 540165 and the minimum is Rs 2630."
   ]
  }
 ],
 "metadata": {
  "kernelspec": {
   "display_name": "Python 3",
   "language": "python",
   "name": "python3"
  },
  "language_info": {
   "codemirror_mode": {
    "name": "ipython",
    "version": 3
   },
   "file_extension": ".py",
   "mimetype": "text/x-python",
   "name": "python",
   "nbconvert_exporter": "python",
   "pygments_lexer": "ipython3",
   "version": "3.8.5"
  }
 },
 "nbformat": 4,
 "nbformat_minor": 4
}
